{
 "cells": [
  {
   "cell_type": "markdown",
   "id": "9628a90a-578c-432b-addb-369822d1a9c1",
   "metadata": {},
   "source": [
    "# Import libraries"
   ]
  },
  {
   "cell_type": "code",
   "execution_count": 8,
   "id": "21fff184-2a9c-4817-8b8c-d71466663665",
   "metadata": {},
   "outputs": [],
   "source": [
    "import numpy as np\n",
    "import scipy.stats as st"
   ]
  },
  {
   "cell_type": "markdown",
   "id": "fc77864c-c35b-4eab-9d3a-ec718292eed1",
   "metadata": {},
   "source": [
    "# Question 1. A fair die is rolled 120 times and the following results are obtained:\n",
    "\n",
    "# face 1: 22 times\n",
    "# face 2: 17 times\n",
    "# face 3: 20 times\n",
    "# face 4: 26 times\n",
    "# face 5: 22 times\n",
    "# face 6: 13 times\n",
    "\n",
    "# Test at a 5% level of significance whether the die is fair"
   ]
  },
  {
   "cell_type": "code",
   "execution_count": 2,
   "id": "7c1cce3e-3142-4f1d-851d-a43fd169ece2",
   "metadata": {},
   "outputs": [],
   "source": [
    "observed = np.array([22,17,20,26,22,13])\n",
    "expected = np.array([20,20,20,20,20,20])"
   ]
  },
  {
   "cell_type": "markdown",
   "id": "6a76edc7-4a21-4a75-b10e-79930148aef6",
   "metadata": {},
   "source": [
    "# Calculating the chi_squared calculated value using formula"
   ]
  },
  {
   "cell_type": "code",
   "execution_count": 6,
   "id": "45af70e7-c6b7-4174-bbd5-a4f2907fec65",
   "metadata": {},
   "outputs": [
    {
     "data": {
      "text/plain": [
       "5.1000000000000005"
      ]
     },
     "execution_count": 6,
     "metadata": {},
     "output_type": "execute_result"
    }
   ],
   "source": [
    "chi_calculated = np.sum(np.square(observed-expected)/expected)\n",
    "chi_calculated"
   ]
  },
  {
   "cell_type": "markdown",
   "id": "c148da3b-dcb0-4e54-b838-10ab9cb01369",
   "metadata": {},
   "source": [
    "# Question 2. A study was conducted to investigate whether there is a relationship between gender and the preferred genre of music. A sample of 235 people was selected and the data collected is shown below. Test at a 5% level of significance whether there is a significant associated between gender and music preference"
   ]
  },
  {
   "cell_type": "code",
   "execution_count": 11,
   "id": "7305e5df-4db9-4e74-af68-f657687384b3",
   "metadata": {},
   "outputs": [],
   "source": [
    "Row_1 = np.array([40,45,25,10])\n",
    "Row_2 = np.array([35,30,20,30])"
   ]
  },
  {
   "cell_type": "code",
   "execution_count": 18,
   "id": "ddadc405-3e9b-43ba-babd-a8b16fb77209",
   "metadata": {},
   "outputs": [
    {
     "data": {
      "text/plain": [
       "array([120, 115])"
      ]
     },
     "execution_count": 18,
     "metadata": {},
     "output_type": "execute_result"
    }
   ],
   "source": [
    "sum_r1 = np.sum(Row_1)\n",
    "sum_r2 = np.sum(Row_2)\n",
    "sum_row = np.array([sum_r1,sum_r2])\n",
    "sum_row"
   ]
  },
  {
   "cell_type": "code",
   "execution_count": 15,
   "id": "6311af79-a6c9-45e0-9cbe-98cc5c386118",
   "metadata": {},
   "outputs": [
    {
     "data": {
      "text/plain": [
       "array([75, 75, 45, 40])"
      ]
     },
     "execution_count": 15,
     "metadata": {},
     "output_type": "execute_result"
    }
   ],
   "source": [
    "sum_col = Row_1 + Row_2\n",
    "sum_col"
   ]
  },
  {
   "cell_type": "markdown",
   "id": "f800695f-bbc5-4a29-8c3b-d4524270916c",
   "metadata": {},
   "source": [
    "# Finding the expected value"
   ]
  },
  {
   "cell_type": "code",
   "execution_count": 19,
   "id": "1b58dae5-5da5-4271-ba70-3e3f321a2d4f",
   "metadata": {},
   "outputs": [],
   "source": [
    "exp = []\n",
    "for i in sum_row:\n",
    "    for j in sum_col:\n",
    "        value= (i*j)/235\n",
    "        exp.append(value)"
   ]
  },
  {
   "cell_type": "markdown",
   "id": "804181a8-529b-415b-bdc2-49949afd3953",
   "metadata": {},
   "source": [
    "# Finding the observated value"
   ]
  },
  {
   "cell_type": "code",
   "execution_count": null,
   "id": "8bbb7e51-e480-44b9-8ae3-a5e73ec232df",
   "metadata": {},
   "outputs": [],
   "source": [
    "obj = np.array([40,45,25,10,35,30,20,30])"
   ]
  },
  {
   "cell_type": "markdown",
   "id": "d5cea438-cf71-4c14-a543-e4ade806d100",
   "metadata": {},
   "source": [
    "# Calculating the chi_square calculated value using formula"
   ]
  },
  {
   "cell_type": "code",
   "execution_count": 27,
   "id": "ab6bb9a2-90fa-42c2-a8ff-3361bb9c644c",
   "metadata": {},
   "outputs": [
    {
     "data": {
      "text/plain": [
       "13.788747987117553"
      ]
     },
     "execution_count": 27,
     "metadata": {},
     "output_type": "execute_result"
    }
   ],
   "source": [
    "chi_calculated = np.sum(np.square(obj-exp)/exp)\n",
    "chi_calculated"
   ]
  },
  {
   "cell_type": "code",
   "execution_count": null,
   "id": "5c613e00-c653-44a4-af6c-07d80b6bff41",
   "metadata": {},
   "outputs": [],
   "source": []
  }
 ],
 "metadata": {
  "kernelspec": {
   "display_name": "Python 3 (ipykernel)",
   "language": "python",
   "name": "python3"
  },
  "language_info": {
   "codemirror_mode": {
    "name": "ipython",
    "version": 3
   },
   "file_extension": ".py",
   "mimetype": "text/x-python",
   "name": "python",
   "nbconvert_exporter": "python",
   "pygments_lexer": "ipython3",
   "version": "3.12.4"
  }
 },
 "nbformat": 4,
 "nbformat_minor": 5
}
