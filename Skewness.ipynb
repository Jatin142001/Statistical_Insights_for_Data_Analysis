{
 "cells": [
  {
   "cell_type": "markdown",
   "id": "c3f123ee-4f27-4964-b11f-b5b792ab0314",
   "metadata": {},
   "source": [
    "# Import libraries"
   ]
  },
  {
   "cell_type": "code",
   "execution_count": 1,
   "id": "852483f5-e6c1-4853-9a91-d79ab1f34962",
   "metadata": {},
   "outputs": [],
   "source": [
    "import numpy as np\n",
    "import pandas as pd\n",
    "import matplotlib.pyplot as plt\n",
    "import seaborn as sns"
   ]
  },
  {
   "cell_type": "markdown",
   "id": "2e172b4f-8c44-4874-ad2e-fb1468b94042",
   "metadata": {},
   "source": [
    "# Import dataset"
   ]
  },
  {
   "cell_type": "code",
   "execution_count": 3,
   "id": "bf67d1f4-35d3-477e-b713-e52f3397dadf",
   "metadata": {},
   "outputs": [],
   "source": [
    "dataset = pd.read_excel(\"C:/Users/ashuj/OneDrive/Desktop/Mobile Sales Data.xlsx\")"
   ]
  },
  {
   "cell_type": "code",
   "execution_count": 4,
   "id": "66097070-e22d-4479-ba0b-1248ff62e2a2",
   "metadata": {},
   "outputs": [
    {
     "data": {
      "text/html": [
       "<div>\n",
       "<style scoped>\n",
       "    .dataframe tbody tr th:only-of-type {\n",
       "        vertical-align: middle;\n",
       "    }\n",
       "\n",
       "    .dataframe tbody tr th {\n",
       "        vertical-align: top;\n",
       "    }\n",
       "\n",
       "    .dataframe thead th {\n",
       "        text-align: right;\n",
       "    }\n",
       "</style>\n",
       "<table border=\"1\" class=\"dataframe\">\n",
       "  <thead>\n",
       "    <tr style=\"text-align: right;\">\n",
       "      <th></th>\n",
       "      <th>Transaction ID</th>\n",
       "      <th>Day</th>\n",
       "      <th>Month</th>\n",
       "      <th>Year</th>\n",
       "      <th>Day Name</th>\n",
       "      <th>Brand</th>\n",
       "      <th>Units Sold</th>\n",
       "      <th>Price Per Unit</th>\n",
       "      <th>Customer Name</th>\n",
       "      <th>Customer Age</th>\n",
       "      <th>City</th>\n",
       "      <th>Payment Method</th>\n",
       "      <th>Customer Ratings</th>\n",
       "      <th>Mobile Model</th>\n",
       "    </tr>\n",
       "  </thead>\n",
       "  <tbody>\n",
       "    <tr>\n",
       "      <th>0</th>\n",
       "      <td>1</td>\n",
       "      <td>9</td>\n",
       "      <td>10</td>\n",
       "      <td>2021</td>\n",
       "      <td>Sat</td>\n",
       "      <td>Xiaomi</td>\n",
       "      <td>6</td>\n",
       "      <td>10174.70</td>\n",
       "      <td>Lalita Ahuja</td>\n",
       "      <td>38</td>\n",
       "      <td>Ludhiana</td>\n",
       "      <td>UPI</td>\n",
       "      <td>5</td>\n",
       "      <td>Redmi Note 10</td>\n",
       "    </tr>\n",
       "    <tr>\n",
       "      <th>1</th>\n",
       "      <td>2</td>\n",
       "      <td>9</td>\n",
       "      <td>10</td>\n",
       "      <td>2021</td>\n",
       "      <td>Saturday</td>\n",
       "      <td>Vivo</td>\n",
       "      <td>6</td>\n",
       "      <td>10565.19</td>\n",
       "      <td>Sneha Sharma</td>\n",
       "      <td>37</td>\n",
       "      <td>Delhi</td>\n",
       "      <td>Credit Card</td>\n",
       "      <td>3</td>\n",
       "      <td>Vivo Y51</td>\n",
       "    </tr>\n",
       "    <tr>\n",
       "      <th>2</th>\n",
       "      <td>3</td>\n",
       "      <td>9</td>\n",
       "      <td>10</td>\n",
       "      <td>2021</td>\n",
       "      <td>Saturday</td>\n",
       "      <td>Vivo</td>\n",
       "      <td>8</td>\n",
       "      <td>58527.58</td>\n",
       "      <td>Radha Srivastava</td>\n",
       "      <td>40</td>\n",
       "      <td>Mumbai</td>\n",
       "      <td>UPI</td>\n",
       "      <td>5</td>\n",
       "      <td>Vivo S1</td>\n",
       "    </tr>\n",
       "    <tr>\n",
       "      <th>3</th>\n",
       "      <td>4</td>\n",
       "      <td>10</td>\n",
       "      <td>10</td>\n",
       "      <td>2021</td>\n",
       "      <td>Sunday</td>\n",
       "      <td>Xiaomi</td>\n",
       "      <td>5</td>\n",
       "      <td>25563.98</td>\n",
       "      <td>Bhavana Arora</td>\n",
       "      <td>21</td>\n",
       "      <td>Mumbai</td>\n",
       "      <td>Credit Card</td>\n",
       "      <td>4</td>\n",
       "      <td>Mi 11</td>\n",
       "    </tr>\n",
       "    <tr>\n",
       "      <th>4</th>\n",
       "      <td>5</td>\n",
       "      <td>10</td>\n",
       "      <td>10</td>\n",
       "      <td>2021</td>\n",
       "      <td>Sunday</td>\n",
       "      <td>OnePlus</td>\n",
       "      <td>3</td>\n",
       "      <td>48168.02</td>\n",
       "      <td>Sneha Mehta</td>\n",
       "      <td>38</td>\n",
       "      <td>Gorakhpur</td>\n",
       "      <td>Cash</td>\n",
       "      <td>5</td>\n",
       "      <td>OnePlus 9</td>\n",
       "    </tr>\n",
       "    <tr>\n",
       "      <th>5</th>\n",
       "      <td>6</td>\n",
       "      <td>10</td>\n",
       "      <td>10</td>\n",
       "      <td>2021</td>\n",
       "      <td>Sunday</td>\n",
       "      <td>Samsung</td>\n",
       "      <td>3</td>\n",
       "      <td>37252.87</td>\n",
       "      <td>Reena Mehta</td>\n",
       "      <td>38</td>\n",
       "      <td>Jodhpur</td>\n",
       "      <td>UPI</td>\n",
       "      <td>3</td>\n",
       "      <td>Galaxy Note 20</td>\n",
       "    </tr>\n",
       "    <tr>\n",
       "      <th>6</th>\n",
       "      <td>7</td>\n",
       "      <td>10</td>\n",
       "      <td>10</td>\n",
       "      <td>2021</td>\n",
       "      <td>Sun</td>\n",
       "      <td>OnePlus</td>\n",
       "      <td>6</td>\n",
       "      <td>61805.80</td>\n",
       "      <td>Pankaj Alva</td>\n",
       "      <td>18</td>\n",
       "      <td>Delhi</td>\n",
       "      <td>Cash</td>\n",
       "      <td>4</td>\n",
       "      <td>OnePlus Nord</td>\n",
       "    </tr>\n",
       "    <tr>\n",
       "      <th>7</th>\n",
       "      <td>8</td>\n",
       "      <td>11</td>\n",
       "      <td>10</td>\n",
       "      <td>2021</td>\n",
       "      <td>Monday</td>\n",
       "      <td>Apple</td>\n",
       "      <td>2</td>\n",
       "      <td>65017.67</td>\n",
       "      <td>Mala Rawat</td>\n",
       "      <td>32</td>\n",
       "      <td>Vadodara</td>\n",
       "      <td>Cash</td>\n",
       "      <td>3</td>\n",
       "      <td>iPhone 12</td>\n",
       "    </tr>\n",
       "    <tr>\n",
       "      <th>8</th>\n",
       "      <td>9</td>\n",
       "      <td>11</td>\n",
       "      <td>10</td>\n",
       "      <td>2021</td>\n",
       "      <td>Mon</td>\n",
       "      <td>Vivo</td>\n",
       "      <td>6</td>\n",
       "      <td>69808.46</td>\n",
       "      <td>Pankaj Varma</td>\n",
       "      <td>34</td>\n",
       "      <td>Delhi</td>\n",
       "      <td>UPI</td>\n",
       "      <td>5</td>\n",
       "      <td>Vivo Y51</td>\n",
       "    </tr>\n",
       "    <tr>\n",
       "      <th>9</th>\n",
       "      <td>10</td>\n",
       "      <td>11</td>\n",
       "      <td>10</td>\n",
       "      <td>2021</td>\n",
       "      <td>Monday</td>\n",
       "      <td>Samsung</td>\n",
       "      <td>6</td>\n",
       "      <td>19221.05</td>\n",
       "      <td>Yogesh Sharma</td>\n",
       "      <td>31</td>\n",
       "      <td>Mumbai</td>\n",
       "      <td>Debit Card</td>\n",
       "      <td>2</td>\n",
       "      <td>Galaxy A51</td>\n",
       "    </tr>\n",
       "  </tbody>\n",
       "</table>\n",
       "</div>"
      ],
      "text/plain": [
       "   Transaction ID  Day  Month  Year  Day Name    Brand  Units Sold  \\\n",
       "0               1    9     10  2021       Sat   Xiaomi           6   \n",
       "1               2    9     10  2021  Saturday     Vivo           6   \n",
       "2               3    9     10  2021  Saturday     Vivo           8   \n",
       "3               4   10     10  2021    Sunday   Xiaomi           5   \n",
       "4               5   10     10  2021    Sunday  OnePlus           3   \n",
       "5               6   10     10  2021    Sunday  Samsung           3   \n",
       "6               7   10     10  2021       Sun  OnePlus           6   \n",
       "7               8   11     10  2021    Monday    Apple           2   \n",
       "8               9   11     10  2021       Mon     Vivo           6   \n",
       "9              10   11     10  2021    Monday  Samsung           6   \n",
       "\n",
       "   Price Per Unit     Customer Name  Customer Age       City Payment Method  \\\n",
       "0        10174.70      Lalita Ahuja            38   Ludhiana            UPI   \n",
       "1        10565.19      Sneha Sharma            37      Delhi    Credit Card   \n",
       "2        58527.58  Radha Srivastava            40     Mumbai            UPI   \n",
       "3        25563.98     Bhavana Arora            21     Mumbai    Credit Card   \n",
       "4        48168.02       Sneha Mehta            38  Gorakhpur           Cash   \n",
       "5        37252.87       Reena Mehta            38    Jodhpur            UPI   \n",
       "6        61805.80       Pankaj Alva            18      Delhi           Cash   \n",
       "7        65017.67        Mala Rawat            32   Vadodara           Cash   \n",
       "8        69808.46      Pankaj Varma            34      Delhi            UPI   \n",
       "9        19221.05     Yogesh Sharma            31     Mumbai     Debit Card   \n",
       "\n",
       "   Customer Ratings    Mobile Model  \n",
       "0                 5   Redmi Note 10  \n",
       "1                 3        Vivo Y51  \n",
       "2                 5         Vivo S1  \n",
       "3                 4           Mi 11  \n",
       "4                 5       OnePlus 9  \n",
       "5                 3  Galaxy Note 20  \n",
       "6                 4    OnePlus Nord  \n",
       "7                 3       iPhone 12  \n",
       "8                 5        Vivo Y51  \n",
       "9                 2      Galaxy A51  "
      ]
     },
     "execution_count": 4,
     "metadata": {},
     "output_type": "execute_result"
    }
   ],
   "source": [
    "dataset.head(10)"
   ]
  },
  {
   "cell_type": "markdown",
   "id": "2bffbb96-052a-43a4-a2f7-680ac89836ca",
   "metadata": {},
   "source": [
    "# Creating Histogram chart on Customer Age column"
   ]
  },
  {
   "cell_type": "code",
   "execution_count": 9,
   "id": "9b532a39-092e-47ad-b81b-3ae752e29e81",
   "metadata": {},
   "outputs": [
    {
     "data": {
      "image/png": "[encoded data removed]",
      "text/plain": [
       "<Figure size 640x480 with 1 Axes>"
      ]
     },
     "metadata": {},
     "output_type": "display_data"
    }
   ],
   "source": [
    "sns.histplot(x=\"Customer Age\", data=dataset)\n",
    "plt.show()"
   ]
  },
  {
   "cell_type": "code",
   "execution_count": 10,
   "id": "57cde749-89ea-41bf-8702-5985104bd4e6",
   "metadata": {},
   "outputs": [
    {
     "data": {
      "text/plain": [
       "0.05720694368721626"
      ]
     },
     "execution_count": 10,
     "metadata": {},
     "output_type": "execute_result"
    }
   ],
   "source": [
    "dataset[\"Customer Age\"].skew()"
   ]
  },
  {
   "cell_type": "markdown",
   "id": "7048b20f-ea48-48e5-b182-260b0ab8a579",
   "metadata": {},
   "source": [
    "# Creating a random dataset for left skew"
   ]
  },
  {
   "cell_type": "code",
   "execution_count": 12,
   "id": "7c9948f4-d7ba-4b47-a41d-cb55680885d0",
   "metadata": {},
   "outputs": [],
   "source": [
    "data = np.random.normal(0,100,100)"
   ]
  },
  {
   "cell_type": "code",
   "execution_count": 15,
   "id": "26ccb7d8-98bb-454f-970e-946941ee68f5",
   "metadata": {},
   "outputs": [
    {
     "data": {
      "text/plain": [
       "-0.3604647531793971"
      ]
     },
     "execution_count": 15,
     "metadata": {},
     "output_type": "execute_result"
    }
   ],
   "source": [
    "df = pd.DataFrame({\"x\":data})\n",
    "df[\"x\"].skew()"
   ]
  },
  {
   "cell_type": "code",
   "execution_count": 16,
   "id": "303b4066-5064-4e48-9f58-23b8797ae4b3",
   "metadata": {},
   "outputs": [
    {
     "data": {
      "image/png": "[encoded data removed]",
      "text/plain": [
       "<Figure size 640x480 with 1 Axes>"
      ]
     },
     "metadata": {},
     "output_type": "display_data"
    }
   ],
   "source": [
    "sns.histplot(x=\"x\",data=df)\n",
    "plt.show()"
   ]
  },
  {
   "cell_type": "markdown",
   "id": "bf19ee86-3675-4fd5-babc-10e62af30445",
   "metadata": {},
   "source": [
    "# Creating a random dataset for right skew"
   ]
  },
  {
   "cell_type": "code",
   "execution_count": 21,
   "id": "f56574f3-09d9-4d46-8346-cb9927ccbc2b",
   "metadata": {},
   "outputs": [],
   "source": [
    " data = np.random.normal(0,100,100)"
   ]
  },
  {
   "cell_type": "code",
   "execution_count": 22,
   "id": "9f477c9e-d6db-4eff-923c-bedad72c12e8",
   "metadata": {},
   "outputs": [
    {
     "data": {
      "text/plain": [
       "0.5128487438637706"
      ]
     },
     "execution_count": 22,
     "metadata": {},
     "output_type": "execute_result"
    }
   ],
   "source": [
    "df = pd.DataFrame({\"x\":data})\n",
    "df[\"x\"].skew()"
   ]
  },
  {
   "cell_type": "code",
   "execution_count": 23,
   "id": "42cf2c3a-d43c-4c2f-8260-e78d7bf95526",
   "metadata": {},
   "outputs": [
    {
     "data": {
      "image/png": "[encoded data removed]",
      "text/plain": [
       "<Figure size 640x480 with 1 Axes>"
      ]
     },
     "metadata": {},
     "output_type": "display_data"
    }
   ],
   "source": [
    "sns.histplot(x=\"x\",data=df)\n",
    "plt.show()"
   ]
  },
  {
   "cell_type": "markdown",
   "id": "371e8aca-b7b9-4a72-af22-c16e65958df5",
   "metadata": {},
   "source": [
    "# Creating a dataset for normal skew"
   ]
  },
  {
   "cell_type": "code",
   "execution_count": 24,
   "id": "5ded638b-2e41-401a-bdb3-f6170e048f8b",
   "metadata": {},
   "outputs": [],
   "source": [
    "data = [2,3,3,4,4,4,5,5,5,5,6,6,6,6,6,7,7,7,7,7,7,8,8,8,8,8,9,9,9,9,10,10,10,11,11,12]"
   ]
  },
  {
   "cell_type": "code",
   "execution_count": 25,
   "id": "a42048d4-855f-4178-9718-5333fed06d4a",
   "metadata": {},
   "outputs": [
    {
     "data": {
      "text/plain": [
       "0.0"
      ]
     },
     "execution_count": 25,
     "metadata": {},
     "output_type": "execute_result"
    }
   ],
   "source": [
    "df = pd.DataFrame({\"x\":data})\n",
    "df[\"x\"].skew()"
   ]
  },
  {
   "cell_type": "code",
   "execution_count": 30,
   "id": "b0e94de9-c3f6-4c97-80a4-4c7fe16bf027",
   "metadata": {},
   "outputs": [
    {
     "data": {
      "text/plain": [
       "(7.0, 7.0, 7)"
      ]
     },
     "execution_count": 30,
     "metadata": {},
     "output_type": "execute_result"
    }
   ],
   "source": [
    "df[\"x\"].mean(),df[\"x\"].median(),df[\"x\"].mode()[0]"
   ]
  },
  {
   "cell_type": "code",
   "execution_count": 28,
   "id": "e7bb796e-37c0-4794-9ed3-01cfbb9b8dde",
   "metadata": {},
   "outputs": [
    {
     "data": {
      "image/png": "[encoded data removed]",
      "text/plain": [
       "<Figure size 640x480 with 1 Axes>"
      ]
     },
     "metadata": {},
     "output_type": "display_data"
    }
   ],
   "source": [
    "sns.histplot(x=\"x\",data=df,bins=[2,3,4,5,6,7,8,9,10,11,12,13])\n",
    "plt.show()"
   ]
  }
 ],
 "metadata": {
  "kernelspec": {
   "display_name": "Python 3 (ipykernel)",
   "language": "python",
   "name": "python3"
  },
  "language_info": {
   "codemirror_mode": {
    "name": "ipython",
    "version": 3
   },
   "file_extension": ".py",
   "mimetype": "text/x-python",
   "name": "python",
   "nbconvert_exporter": "python",
   "pygments_lexer": "ipython3",
   "version": "3.12.4"
  }
 },
 "nbformat": 4,
 "nbformat_minor": 5
}
