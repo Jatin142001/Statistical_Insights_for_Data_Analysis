{
 "cells": [
  {
   "cell_type": "markdown",
   "id": "f6c0f026-9a14-4e07-a81b-8fee00c27cad",
   "metadata": {},
   "source": [
    "# Question 1. A manufacturer claims that the average weight of the bag of potato chips is 150 grams. A sample of 25 bags is taken, and the average weight is found to be 148 grams with a standard deviation of 5 grams. Test the manufacturer's claim using a one-tailed t-test with a significance level of 0.05 "
   ]
  },
  {
   "cell_type": "markdown",
   "id": "538d5876-6ecf-47bd-87d3-82475a358a6b",
   "metadata": {},
   "source": [
    "# Here I am using a T-test because:\n",
    "# sample_size < 30, population_mean, sample_data_mean and sample_standard_deviation are given in the question"
   ]
  },
  {
   "cell_type": "markdown",
   "id": "84db2744-beb4-45d3-94c9-18f160391266",
   "metadata": {},
   "source": [
    "# Import libraries"
   ]
  },
  {
   "cell_type": "code",
   "execution_count": 6,
   "id": "5c9dc382-5236-4d65-a091-1ca7a73e0bf1",
   "metadata": {},
   "outputs": [],
   "source": [
    "import numpy as np\n",
    "import scipy.stats as st"
   ]
  },
  {
   "cell_type": "markdown",
   "id": "9a7381d6-682d-412b-b554-2ec6e043b4bd",
   "metadata": {},
   "source": [
    "# Given value of the data"
   ]
  },
  {
   "cell_type": "code",
   "execution_count": 7,
   "id": "0644b239-a262-45dc-862d-6c9a29c546a9",
   "metadata": {},
   "outputs": [],
   "source": [
    "sample_mean = 148\n",
    "population_mean = 150\n",
    "sample_std = 5\n",
    "n_sample = 25"
   ]
  },
  {
   "cell_type": "markdown",
   "id": "c61be45d-3c70-4cad-a031-1a91dcc62f37",
   "metadata": {},
   "source": [
    "# Calculating the t observation value "
   ]
  },
  {
   "cell_type": "code",
   "execution_count": 8,
   "id": "f696fc38-1336-473d-aa2e-e08de134d710",
   "metadata": {},
   "outputs": [
    {
     "data": {
      "text/plain": [
       "-1.7108820799094282"
      ]
     },
     "execution_count": 8,
     "metadata": {},
     "output_type": "execute_result"
    }
   ],
   "source": [
    "t_obs = st.t.ppf(0.05,24)\n",
    "t_obs"
   ]
  },
  {
   "cell_type": "markdown",
   "id": "ad10b746-5295-4392-9ac8-8ccf2f10f097",
   "metadata": {},
   "source": [
    "# Calculating the t calculated value using formula"
   ]
  },
  {
   "cell_type": "code",
   "execution_count": 9,
   "id": "7864f0ba-acfe-41ba-bfa2-24200619ca1d",
   "metadata": {},
   "outputs": [
    {
     "data": {
      "text/plain": [
       "-2.0"
      ]
     },
     "execution_count": 9,
     "metadata": {},
     "output_type": "execute_result"
    }
   ],
   "source": [
    "t_cal = (sample_mean-population_mean)/(sample_std/np.sqrt(n_sample))\n",
    "t_cal"
   ]
  },
  {
   "cell_type": "markdown",
   "id": "9d3e27b5-4a05-4184-84e0-46b59ead417c",
   "metadata": {},
   "source": [
    "# Question 2. A company wants to know whether there is a difference in productivity between two teams. They randomly select 20 employees from each team and record their productivity score for Team A is 80 with a standard deviation of 5. While the mean productivity score for Team B is 75 with a standard deviation of 6. Test at a 5% level of significance whether there is a difference in productivity between the two teams."
   ]
  },
  {
   "cell_type": "markdown",
   "id": "dcea4423-5b29-4c34-9d1c-25f2d256e5c6",
   "metadata": {},
   "source": [
    "# Given value of the data "
   ]
  },
  {
   "cell_type": "code",
   "execution_count": 12,
   "id": "74f6a6fb-1025-47ff-9fb0-44100b965788",
   "metadata": {},
   "outputs": [],
   "source": [
    "mean_A = 80\n",
    "mean_B = 75\n",
    "sample_std_A = 5\n",
    "sample_std_B = 6\n",
    "n_sample_A = 20\n",
    "n_sample_B = 20"
   ]
  },
  {
   "cell_type": "markdown",
   "id": "49d0b1df-5a18-4088-8dfe-e8b5d0a1811d",
   "metadata": {},
   "source": [
    "# Calculating the t calculated value"
   ]
  },
  {
   "cell_type": "code",
   "execution_count": 13,
   "id": "5d2ad894-cd96-488c-9f7f-0d67a045333b",
   "metadata": {},
   "outputs": [
    {
     "data": {
      "text/plain": [
       "2.862991671569341"
      ]
     },
     "execution_count": 13,
     "metadata": {},
     "output_type": "execute_result"
    }
   ],
   "source": [
    "t_calculated = (80-75)/(np.sqrt((25/20)+(36/20)))\n",
    "t_calculated"
   ]
  },
  {
   "cell_type": "markdown",
   "id": "840a817c-c4ae-4497-b79e-79fba6f03ede",
   "metadata": {},
   "source": [
    "# Calculting the t obeservation value"
   ]
  },
  {
   "cell_type": "code",
   "execution_count": null,
   "id": "464e47bc-0f6a-48ff-b218-f26887010319",
   "metadata": {},
   "outputs": [],
   "source": [
    "t_table = st.t.ppf(1-0.025,38)\n",
    "t_table"
   ]
  },
  {
   "cell_type": "code",
   "execution_count": 16,
   "id": "adebc581-0d76-44c2-954f-1b733a501d0f",
   "metadata": {},
   "outputs": [
    {
     "name": "stdout",
     "output_type": "stream",
     "text": [
      "Alternate hypothesis Ha is valid There is a difference between the productivity of both teams \n"
     ]
    }
   ],
   "source": [
    "if t_table < t_calculated:\n",
    "    print(\"Alternate hypothesis Ha is valid\"\n",
    "         \" There is a difference between the productivity of both teams \")\n",
    "\n",
    "else: \n",
    "    print(\"Null hypothesis Ho is valid\"\n",
    "         \"There is no difference between the productivity of both teams\")"
   ]
  },
  {
   "cell_type": "markdown",
   "id": "29287ac2-941c-4bcb-9955-8cf5b3781343",
   "metadata": {},
   "source": [
    "# Question 3. A company wants to test whethere a new training program improves the typing speed fo its employees. The typing speed of 20 employees was recorded before and after the training program. The data is given below. Test at a 5% level of significance whether the training program has an effect on typing speed of the employees."
   ]
  },
  {
   "cell_type": "code",
   "execution_count": 23,
   "id": "a67df61a-2cb2-46b9-85ef-43aa8b28bd30",
   "metadata": {},
   "outputs": [],
   "source": [
    "Before = np.array([50,60,45,65,55,70,40,75,80,65,70,60,50,55,45,75,60,50,65,70])\n",
    "After = np.array([60,70,55,75,65,80,50,85,90,70,75,65,55,60,50,80,65,55,70,75])"
   ]
  },
  {
   "cell_type": "code",
   "execution_count": 24,
   "id": "5eff813f-710b-4ba1-9f63-7bf5a35c8b07",
   "metadata": {},
   "outputs": [
    {
     "data": {
      "text/plain": [
       "(60.25, 67.5)"
      ]
     },
     "execution_count": 24,
     "metadata": {},
     "output_type": "execute_result"
    }
   ],
   "source": [
    "mean_before = np.mean(Before)\n",
    "mean_after = np.mean(After)\n",
    "mean_before, mean_after"
   ]
  },
  {
   "cell_type": "code",
   "execution_count": 27,
   "id": "e545fa50-8c8d-4f89-87dd-cf004fcace17",
   "metadata": {},
   "outputs": [
    {
     "data": {
      "text/plain": [
       "(11.008519428151999, 11.236102527122116)"
      ]
     },
     "execution_count": 27,
     "metadata": {},
     "output_type": "execute_result"
    }
   ],
   "source": [
    "std_before = np.std(Before)\n",
    "std_after = np.std(After)\n",
    "std_before, std_after"
   ]
  },
  {
   "cell_type": "markdown",
   "id": "c97c4b01-c6e6-4509-8a90-b36683dd5af8",
   "metadata": {},
   "source": [
    "# Calculating the t calculated value using formula"
   ]
  },
  {
   "cell_type": "code",
   "execution_count": 31,
   "id": "ac1b4c4a-65d7-41e9-b55e-ce8d81ad3bb2",
   "metadata": {},
   "outputs": [
    {
     "data": {
      "text/plain": [
       "2.061200527128206"
      ]
     },
     "execution_count": 31,
     "metadata": {},
     "output_type": "execute_result"
    }
   ],
   "source": [
    "t_calculate = (mean_after-mean_before)/(np.sqrt(((std_after*std_after)/len(After))+((std_before*std_before)/len(Before))))\n",
    "t_calculate"
   ]
  },
  {
   "cell_type": "markdown",
   "id": "5a8e6501-9927-4e4c-82b4-1794e84388f5",
   "metadata": {},
   "source": [
    "# Calculating the t observation value"
   ]
  },
  {
   "cell_type": "code",
   "execution_count": 29,
   "id": "ea5cd3cd-4772-4006-ba6d-c587c2ab4ad0",
   "metadata": {},
   "outputs": [
    {
     "data": {
      "text/plain": [
       "2.093024054408263"
      ]
     },
     "execution_count": 29,
     "metadata": {},
     "output_type": "execute_result"
    }
   ],
   "source": [
    "t_obser = st.t.ppf(1-0.025,19)\n",
    "t_obser"
   ]
  },
  {
   "cell_type": "markdown",
   "id": "e33c684f-358e-48f7-9c5e-5711bae98324",
   "metadata": {},
   "source": [
    "# There is no difference between the calculated and observed values of the t_test. So I have concluded that the Null hypothesis is valid and there is no change in the typing speed of the employees before and after the training"
   ]
  }
 ],
 "metadata": {
  "kernelspec": {
   "display_name": "Python 3 (ipykernel)",
   "language": "python",
   "name": "python3"
  },
  "language_info": {
   "codemirror_mode": {
    "name": "ipython",
    "version": 3
   },
   "file_extension": ".py",
   "mimetype": "text/x-python",
   "name": "python",
   "nbconvert_exporter": "python",
   "pygments_lexer": "ipython3",
   "version": "3.12.4"
  }
 },
 "nbformat": 4,
 "nbformat_minor": 5
}
