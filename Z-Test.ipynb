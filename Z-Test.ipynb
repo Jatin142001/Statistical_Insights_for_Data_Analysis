{
 "cells": [
  {
   "cell_type": "markdown",
   "id": "0143c057-84df-46ef-a777-7471075e3c88",
   "metadata": {},
   "source": [
    "# 1. A teacher claims that the mean score of students in his class is greater than 82 with a standard deviation of 20 if a sample of 81 students was selected with a mean score of 90."
   ]
  },
  {
   "cell_type": "markdown",
   "id": "4a148a0f-f6dc-4cd9-b48d-bcdef553159e",
   "metadata": {},
   "source": [
    "# Here I am using the z-test because:\n",
    "# sample_size > 30, population_standard_deviation and popuation_mean are given in the question"
   ]
  },
  {
   "cell_type": "markdown",
   "id": "7845f6fa",
   "metadata": {},
   "source": []
  },
  {
   "cell_type": "markdown",
   "id": "abff6a2b-43e1-4936-8e95-9cc62d9093fa",
   "metadata": {},
   "source": [
    "# Import libraries"
   ]
  },
  {
   "cell_type": "code",
   "execution_count": 29,
   "id": "eb94acd7-89ed-401c-b4c1-a1746b1b137b",
   "metadata": {},
   "outputs": [],
   "source": [
    "import scipy.stats as st\n",
    "import numpy as np"
   ]
  },
  {
   "cell_type": "markdown",
   "id": "70796d12-7594-488e-90f1-ed9701a463d2",
   "metadata": {},
   "source": [
    "# Given values of the data"
   ]
  },
  {
   "cell_type": "code",
   "execution_count": 5,
   "id": "c5745f34-124d-4ea4-bb36-08f0b0f7f4a1",
   "metadata": {},
   "outputs": [],
   "source": [
    "sample_mean = 90\n",
    "population_mean = 82\n",
    "population_std = 20\n",
    "sample_size = 81\n",
    "alpha = 0.05"
   ]
  },
  {
   "cell_type": "markdown",
   "id": "74452738-0647-447f-85a8-79016417ff72",
   "metadata": {},
   "source": [
    "# Calculting  the z calculated value using formula"
   ]
  },
  {
   "cell_type": "code",
   "execution_count": 6,
   "id": "db4fddb3-99ce-4684-911f-798a755b91c4",
   "metadata": {},
   "outputs": [
    {
     "data": {
      "text/plain": [
       "3.5999999999999996"
      ]
     },
     "execution_count": 6,
     "metadata": {},
     "output_type": "execute_result"
    }
   ],
   "source": [
    "z_calculated = (sample_mean-population_mean)/(population_std/np.sqrt(sample_size))\n",
    "z_calculated"
   ]
  },
  {
   "cell_type": "markdown",
   "id": "d07ab17e-aa3b-4bfd-a982-73eeb7e4ec73",
   "metadata": {},
   "source": [
    "# Calculated the z observation value "
   ]
  },
  {
   "cell_type": "code",
   "execution_count": 31,
   "id": "8ddf107a-32b6-4a39-a845-9fc585c559ff",
   "metadata": {},
   "outputs": [
    {
     "data": {
      "text/plain": [
       "1.6448536269514722"
      ]
     },
     "execution_count": 31,
     "metadata": {},
     "output_type": "execute_result"
    }
   ],
   "source": [
    "z_obs = st.norm.ppf(1-alpha)\n",
    "z_obs"
   ]
  },
  {
   "cell_type": "markdown",
   "id": "0084a095-04f5-4cf8-b138-14e2b03f18d2",
   "metadata": {},
   "source": [
    "# Showing which hypothesis is valid for given data values"
   ]
  },
  {
   "cell_type": "code",
   "execution_count": 28,
   "id": "e0d718eb-f66a-4eba-9ada-f04c71825821",
   "metadata": {},
   "outputs": [
    {
     "name": "stdout",
     "output_type": "stream",
     "text": [
      "Alternate hypothesis Ha is valid\n"
     ]
    }
   ],
   "source": [
    "if z_obs < z_calculated:\n",
    "    print(\"Alternate hypothesis Ha is valid\")\n",
    "else:\n",
    "    print(\"Null hypothesis Ho is valie\")"
   ]
  },
  {
   "cell_type": "markdown",
   "id": "3f710173-9179-43be-a88f-ac5070d09b89",
   "metadata": {},
   "source": [
    "# 2. Scenario: Imagine you work for an e-commerce company and your team is responsible for analyzing customer purchase data. You want to determine whether a new website design has lead to a significant increase in the average purchase amount compared to the old design "
   ]
  },
  {
   "cell_type": "markdown",
   "id": "45be2cfd-bb2d-4598-ac91-26bd372789e1",
   "metadata": {},
   "source": [
    "# Data: You have collected data from a random sample of 30 customers who made purchases on the old website design and 30 customers who purchased on the new website design. You have the sample mean, sample standard deviation and sample size for both groups "
   ]
  },
  {
   "cell_type": "code",
   "execution_count": 15,
   "id": "b5af2f5c-89f3-4645-b85c-507391ce0618",
   "metadata": {},
   "outputs": [],
   "source": [
    "Old_design_data = np.array([48.5,42.8,38.9,43.5,41.0,44.6,40.5,42.7,39.8,41.4,44.3,39.7,42.1,40.6,43.0,42.2,41.5,39.6,44.0,43.1,38.7,43.9,42.0,41.9,42.8,43.7,41.3,40.9,42.5,41.6])\n",
    "New_design_data = np.array([48.5,49.1,50.2,47.8,48.7,49.9,48.0,50.5,49.8,49.6,48.2,48.9,49.7,50.3,49.4,50.1,48.6,48.3,49.0,50.0,48.4,49.3,49.5,48.8,50.6,50.4,48.1,49.2,50.7,50.8])"
   ]
  },
  {
   "cell_type": "code",
   "execution_count": 16,
   "id": "8edafd77-9ad2-4ded-9e1e-9b69656feb4c",
   "metadata": {},
   "outputs": [],
   "source": [
    "pop_std = 2.5\n",
    "n_sample = 30\n",
    "alp = 0.05"
   ]
  },
  {
   "cell_type": "code",
   "execution_count": 24,
   "id": "cb01366b-502c-4ee7-9494-e456ac212438",
   "metadata": {},
   "outputs": [],
   "source": [
    "old_mean = np.mean(Old_design_data)\n",
    "new_mean = np.mean(New_design_data)"
   ]
  },
  {
   "cell_type": "code",
   "execution_count": 26,
   "id": "c1458e2c-c1a8-40db-9789-b21982a129fe",
   "metadata": {},
   "outputs": [
    {
     "data": {
      "text/plain": [
       "(42.10333333333333, 49.346666666666664)"
      ]
     },
     "execution_count": 26,
     "metadata": {},
     "output_type": "execute_result"
    }
   ],
   "source": [
    "old_mean,new_mean"
   ]
  },
  {
   "cell_type": "markdown",
   "id": "d2208bc1-9ca3-4bbc-8bac-9cdf21a8a00f",
   "metadata": {},
   "source": [
    "# Calculting  the z calculated value using formula"
   ]
  },
  {
   "cell_type": "code",
   "execution_count": 21,
   "id": "51730dd6-8113-4147-a167-1b5cc8184a62",
   "metadata": {},
   "outputs": [
    {
     "data": {
      "text/plain": [
       "15.86934823278301"
      ]
     },
     "execution_count": 21,
     "metadata": {},
     "output_type": "execute_result"
    }
   ],
   "source": [
    "z_cal = (new_mean - old_mean)/(pop_std/np.sqrt(n_sample))\n",
    "z_cal"
   ]
  },
  {
   "cell_type": "markdown",
   "id": "e2881991-2d70-4332-a156-3489ed48a93e",
   "metadata": {},
   "source": [
    "# Calculting  the z calculated value using formula"
   ]
  },
  {
   "cell_type": "code",
   "execution_count": 23,
   "id": "208942c9-6353-4d4f-a23a-67a17d609233",
   "metadata": {},
   "outputs": [
    {
     "data": {
      "text/plain": [
       "1.6448536269514722"
      ]
     },
     "execution_count": 23,
     "metadata": {},
     "output_type": "execute_result"
    }
   ],
   "source": [
    "z_table = st.norm.ppf(1-alp)\n",
    "z_table"
   ]
  },
  {
   "cell_type": "markdown",
   "id": "c9ba7984-4356-4ee6-a954-8eb28270b39c",
   "metadata": {},
   "source": [
    "# Showing which hypothesis is valid for given data values"
   ]
  },
  {
   "cell_type": "code",
   "execution_count": 25,
   "id": "4cd21a20-3c2a-4f23-89de-8ec1a6488fb1",
   "metadata": {},
   "outputs": [
    {
     "name": "stdout",
     "output_type": "stream",
     "text": [
      "Alternate hypothesis Ha is validCustomers reach on the new website is greater than an old website\n"
     ]
    }
   ],
   "source": [
    "if z_table < z_cal :\n",
    "    print(\"Alternate hypothesis Ha is valid\"\n",
    "            \"Customers reach on the new website is greater than an old website\")\n",
    "        \n",
    "else: \n",
    "    print(\"Null hypothesis Ho is valid\"\n",
    "         \"Customers reach on the new website is equal to an old website\")"
   ]
  },
  {
   "cell_type": "code",
   "execution_count": null,
   "id": "e6f9f324-3840-437a-ba88-93f56ab19e20",
   "metadata": {},
   "outputs": [],
   "source": []
  }
 ],
 "metadata": {
  "kernelspec": {
   "display_name": "Python 3 (ipykernel)",
   "language": "python",
   "name": "python3"
  },
  "language_info": {
   "codemirror_mode": {
    "name": "ipython",
    "version": 3
   },
   "file_extension": ".py",
   "mimetype": "text/x-python",
   "name": "python",
   "nbconvert_exporter": "python",
   "pygments_lexer": "ipython3",
   "version": "3.12.4"
  }
 },
 "nbformat": 4,
 "nbformat_minor": 5
}
