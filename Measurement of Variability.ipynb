{
 "cells": [
  {
   "cell_type": "markdown",
   "id": "4991b6a9-fcb8-405b-ae98-b7c3d28097a8",
   "metadata": {},
   "source": [
    "# Importing the libraries"
   ]
  },
  {
   "cell_type": "code",
   "execution_count": 23,
   "id": "017083c7-8f73-4ec6-ac6e-910a51dd0321",
   "metadata": {},
   "outputs": [],
   "source": [
    "import numpy as np\n",
    "import pandas as pd\n",
    "import matplotlib.pyplot as plt\n",
    "import seaborn as sns"
   ]
  },
  {
   "cell_type": "markdown",
   "id": "2b315857-bd67-4389-8f53-44c75fb33482",
   "metadata": {},
   "source": [
    "# Importing data"
   ]
  },
  {
   "cell_type": "code",
   "execution_count": 17,
   "id": "9cba1fbe-c16e-45a7-b37c-45ca5190f604",
   "metadata": {},
   "outputs": [],
   "source": [
    "dataset = pd.read_excel(\"C:/Users/ashuj/OneDrive/Desktop/Mobile Sales Data.xlsx\")"
   ]
  },
  {
   "cell_type": "code",
   "execution_count": 18,
   "id": "05389961-884d-439f-88af-fbb9aba3259b",
   "metadata": {},
   "outputs": [
    {
     "data": {
      "text/html": [
       "<div>\n",
       "<style scoped>\n",
       "    .dataframe tbody tr th:only-of-type {\n",
       "        vertical-align: middle;\n",
       "    }\n",
       "\n",
       "    .dataframe tbody tr th {\n",
       "        vertical-align: top;\n",
       "    }\n",
       "\n",
       "    .dataframe thead th {\n",
       "        text-align: right;\n",
       "    }\n",
       "</style>\n",
       "<table border=\"1\" class=\"dataframe\">\n",
       "  <thead>\n",
       "    <tr style=\"text-align: right;\">\n",
       "      <th></th>\n",
       "      <th>Transaction ID</th>\n",
       "      <th>Day</th>\n",
       "      <th>Month</th>\n",
       "      <th>Year</th>\n",
       "      <th>Day Name</th>\n",
       "      <th>Brand</th>\n",
       "      <th>Units Sold</th>\n",
       "      <th>Price Per Unit</th>\n",
       "      <th>Customer Name</th>\n",
       "      <th>Customer Age</th>\n",
       "      <th>City</th>\n",
       "      <th>Payment Method</th>\n",
       "      <th>Customer Ratings</th>\n",
       "      <th>Mobile Model</th>\n",
       "    </tr>\n",
       "  </thead>\n",
       "  <tbody>\n",
       "    <tr>\n",
       "      <th>0</th>\n",
       "      <td>1</td>\n",
       "      <td>9</td>\n",
       "      <td>10</td>\n",
       "      <td>2021</td>\n",
       "      <td>Sat</td>\n",
       "      <td>Xiaomi</td>\n",
       "      <td>6</td>\n",
       "      <td>10174.70</td>\n",
       "      <td>Lalita Ahuja</td>\n",
       "      <td>38</td>\n",
       "      <td>Ludhiana</td>\n",
       "      <td>UPI</td>\n",
       "      <td>5</td>\n",
       "      <td>Redmi Note 10</td>\n",
       "    </tr>\n",
       "    <tr>\n",
       "      <th>1</th>\n",
       "      <td>2</td>\n",
       "      <td>9</td>\n",
       "      <td>10</td>\n",
       "      <td>2021</td>\n",
       "      <td>Saturday</td>\n",
       "      <td>Vivo</td>\n",
       "      <td>6</td>\n",
       "      <td>10565.19</td>\n",
       "      <td>Sneha Sharma</td>\n",
       "      <td>37</td>\n",
       "      <td>Delhi</td>\n",
       "      <td>Credit Card</td>\n",
       "      <td>3</td>\n",
       "      <td>Vivo Y51</td>\n",
       "    </tr>\n",
       "    <tr>\n",
       "      <th>2</th>\n",
       "      <td>3</td>\n",
       "      <td>9</td>\n",
       "      <td>10</td>\n",
       "      <td>2021</td>\n",
       "      <td>Saturday</td>\n",
       "      <td>Vivo</td>\n",
       "      <td>8</td>\n",
       "      <td>58527.58</td>\n",
       "      <td>Radha Srivastava</td>\n",
       "      <td>40</td>\n",
       "      <td>Mumbai</td>\n",
       "      <td>UPI</td>\n",
       "      <td>5</td>\n",
       "      <td>Vivo S1</td>\n",
       "    </tr>\n",
       "    <tr>\n",
       "      <th>3</th>\n",
       "      <td>4</td>\n",
       "      <td>10</td>\n",
       "      <td>10</td>\n",
       "      <td>2021</td>\n",
       "      <td>Sunday</td>\n",
       "      <td>Xiaomi</td>\n",
       "      <td>5</td>\n",
       "      <td>25563.98</td>\n",
       "      <td>Bhavana Arora</td>\n",
       "      <td>21</td>\n",
       "      <td>Mumbai</td>\n",
       "      <td>Credit Card</td>\n",
       "      <td>4</td>\n",
       "      <td>Mi 11</td>\n",
       "    </tr>\n",
       "    <tr>\n",
       "      <th>4</th>\n",
       "      <td>5</td>\n",
       "      <td>10</td>\n",
       "      <td>10</td>\n",
       "      <td>2021</td>\n",
       "      <td>Sunday</td>\n",
       "      <td>OnePlus</td>\n",
       "      <td>3</td>\n",
       "      <td>48168.02</td>\n",
       "      <td>Sneha Mehta</td>\n",
       "      <td>38</td>\n",
       "      <td>Gorakhpur</td>\n",
       "      <td>Cash</td>\n",
       "      <td>5</td>\n",
       "      <td>OnePlus 9</td>\n",
       "    </tr>\n",
       "    <tr>\n",
       "      <th>...</th>\n",
       "      <td>...</td>\n",
       "      <td>...</td>\n",
       "      <td>...</td>\n",
       "      <td>...</td>\n",
       "      <td>...</td>\n",
       "      <td>...</td>\n",
       "      <td>...</td>\n",
       "      <td>...</td>\n",
       "      <td>...</td>\n",
       "      <td>...</td>\n",
       "      <td>...</td>\n",
       "      <td>...</td>\n",
       "      <td>...</td>\n",
       "      <td>...</td>\n",
       "    </tr>\n",
       "    <tr>\n",
       "      <th>3830</th>\n",
       "      <td>3831</td>\n",
       "      <td>7</td>\n",
       "      <td>10</td>\n",
       "      <td>2024</td>\n",
       "      <td>Monday</td>\n",
       "      <td>OnePlus</td>\n",
       "      <td>9</td>\n",
       "      <td>43406.12</td>\n",
       "      <td>Kavita Bhatnagar</td>\n",
       "      <td>41</td>\n",
       "      <td>Mumbai</td>\n",
       "      <td>Cash</td>\n",
       "      <td>5</td>\n",
       "      <td>OnePlus 8T</td>\n",
       "    </tr>\n",
       "    <tr>\n",
       "      <th>3831</th>\n",
       "      <td>3832</td>\n",
       "      <td>8</td>\n",
       "      <td>10</td>\n",
       "      <td>2024</td>\n",
       "      <td>Tuesday</td>\n",
       "      <td>Xiaomi</td>\n",
       "      <td>8</td>\n",
       "      <td>34675.31</td>\n",
       "      <td>Vivek Sheth</td>\n",
       "      <td>25</td>\n",
       "      <td>Jodhpur</td>\n",
       "      <td>UPI</td>\n",
       "      <td>2</td>\n",
       "      <td>Redmi 9</td>\n",
       "    </tr>\n",
       "    <tr>\n",
       "      <th>3832</th>\n",
       "      <td>3833</td>\n",
       "      <td>8</td>\n",
       "      <td>10</td>\n",
       "      <td>2024</td>\n",
       "      <td>Tuesday</td>\n",
       "      <td>OnePlus</td>\n",
       "      <td>7</td>\n",
       "      <td>37620.23</td>\n",
       "      <td>Anita Desai</td>\n",
       "      <td>34</td>\n",
       "      <td>Vadodara</td>\n",
       "      <td>UPI</td>\n",
       "      <td>5</td>\n",
       "      <td>OnePlus 8T</td>\n",
       "    </tr>\n",
       "    <tr>\n",
       "      <th>3833</th>\n",
       "      <td>3834</td>\n",
       "      <td>8</td>\n",
       "      <td>10</td>\n",
       "      <td>2024</td>\n",
       "      <td>Tuesday</td>\n",
       "      <td>OnePlus</td>\n",
       "      <td>4</td>\n",
       "      <td>16961.04</td>\n",
       "      <td>Ayesha Rathod</td>\n",
       "      <td>51</td>\n",
       "      <td>Mumbai</td>\n",
       "      <td>Debit Card</td>\n",
       "      <td>5</td>\n",
       "      <td>OnePlus 8T</td>\n",
       "    </tr>\n",
       "    <tr>\n",
       "      <th>3834</th>\n",
       "      <td>3835</td>\n",
       "      <td>8</td>\n",
       "      <td>10</td>\n",
       "      <td>2024</td>\n",
       "      <td>Tuesday</td>\n",
       "      <td>Samsung</td>\n",
       "      <td>1</td>\n",
       "      <td>50375.07</td>\n",
       "      <td>Sanjay Malhotra</td>\n",
       "      <td>37</td>\n",
       "      <td>Patna</td>\n",
       "      <td>UPI</td>\n",
       "      <td>3</td>\n",
       "      <td>Galaxy A51</td>\n",
       "    </tr>\n",
       "  </tbody>\n",
       "</table>\n",
       "<p>3835 rows × 14 columns</p>\n",
       "</div>"
      ],
      "text/plain": [
       "      Transaction ID  Day  Month  Year  Day Name    Brand  Units Sold  \\\n",
       "0                  1    9     10  2021       Sat   Xiaomi           6   \n",
       "1                  2    9     10  2021  Saturday     Vivo           6   \n",
       "2                  3    9     10  2021  Saturday     Vivo           8   \n",
       "3                  4   10     10  2021    Sunday   Xiaomi           5   \n",
       "4                  5   10     10  2021    Sunday  OnePlus           3   \n",
       "...              ...  ...    ...   ...       ...      ...         ...   \n",
       "3830            3831    7     10  2024    Monday  OnePlus           9   \n",
       "3831            3832    8     10  2024   Tuesday   Xiaomi           8   \n",
       "3832            3833    8     10  2024   Tuesday  OnePlus           7   \n",
       "3833            3834    8     10  2024   Tuesday  OnePlus           4   \n",
       "3834            3835    8     10  2024   Tuesday  Samsung           1   \n",
       "\n",
       "      Price Per Unit     Customer Name  Customer Age       City  \\\n",
       "0           10174.70      Lalita Ahuja            38   Ludhiana   \n",
       "1           10565.19      Sneha Sharma            37      Delhi   \n",
       "2           58527.58  Radha Srivastava            40     Mumbai   \n",
       "3           25563.98     Bhavana Arora            21     Mumbai   \n",
       "4           48168.02       Sneha Mehta            38  Gorakhpur   \n",
       "...              ...               ...           ...        ...   \n",
       "3830        43406.12  Kavita Bhatnagar            41     Mumbai   \n",
       "3831        34675.31       Vivek Sheth            25    Jodhpur   \n",
       "3832        37620.23       Anita Desai            34   Vadodara   \n",
       "3833        16961.04     Ayesha Rathod            51     Mumbai   \n",
       "3834        50375.07   Sanjay Malhotra            37      Patna   \n",
       "\n",
       "     Payment Method  Customer Ratings   Mobile Model  \n",
       "0               UPI                 5  Redmi Note 10  \n",
       "1       Credit Card                 3       Vivo Y51  \n",
       "2               UPI                 5        Vivo S1  \n",
       "3       Credit Card                 4          Mi 11  \n",
       "4              Cash                 5      OnePlus 9  \n",
       "...             ...               ...            ...  \n",
       "3830           Cash                 5     OnePlus 8T  \n",
       "3831            UPI                 2        Redmi 9  \n",
       "3832            UPI                 5     OnePlus 8T  \n",
       "3833     Debit Card                 5     OnePlus 8T  \n",
       "3834            UPI                 3     Galaxy A51  \n",
       "\n",
       "[3835 rows x 14 columns]"
      ]
     },
     "execution_count": 18,
     "metadata": {},
     "output_type": "execute_result"
    }
   ],
   "source": [
    "dataset"
   ]
  },
  {
   "cell_type": "markdown",
   "id": "ee9c16bf-304d-4d63-a782-d6597766300c",
   "metadata": {},
   "source": [
    "# Finding the minimum and maximum of Customer Age of the dataset"
   ]
  },
  {
   "cell_type": "code",
   "execution_count": 19,
   "id": "3af0b3cb-32c7-411c-909b-6ab17d492862",
   "metadata": {},
   "outputs": [],
   "source": [
    "min_r = dataset[\"Customer Age\"].min()\n",
    "max_r = dataset[\"Customer Age\"].max()"
   ]
  },
  {
   "cell_type": "code",
   "execution_count": 20,
   "id": "d9ad51ef-bead-4b4c-b4c6-e1da6a2b62c3",
   "metadata": {},
   "outputs": [
    {
     "data": {
      "text/plain": [
       "(18, 59)"
      ]
     },
     "execution_count": 20,
     "metadata": {},
     "output_type": "execute_result"
    }
   ],
   "source": [
    "min_r,max_r"
   ]
  },
  {
   "cell_type": "markdown",
   "id": "6623409d-547a-4df6-9e68-e04b3b40fcbd",
   "metadata": {},
   "source": [
    "# Finding the range of the dataset"
   ]
  },
  {
   "cell_type": "code",
   "execution_count": 21,
   "id": "f1656275-92f8-4fc5-b13c-ec209145cc23",
   "metadata": {},
   "outputs": [],
   "source": [
    "range = max_r - min_r"
   ]
  },
  {
   "cell_type": "code",
   "execution_count": 22,
   "id": "cf66e928-ddac-4d7f-9003-273193617794",
   "metadata": {},
   "outputs": [
    {
     "data": {
      "text/plain": [
       "41"
      ]
     },
     "execution_count": 22,
     "metadata": {},
     "output_type": "execute_result"
    }
   ],
   "source": [
    "range"
   ]
  },
  {
   "cell_type": "markdown",
   "id": "7e2f18ba-1047-43fb-8292-17225a1c9e0a",
   "metadata": {},
   "source": [
    "# Creating two different dataset "
   ]
  },
  {
   "cell_type": "code",
   "execution_count": 26,
   "id": "d5d4a15c-86dd-4a14-8511-57904d679693",
   "metadata": {},
   "outputs": [],
   "source": [
    "data_1 = np.array([75,65,73,68,72,76])\n",
    "data_2 = np.array([90,47,43,96,93,51])\n",
    "no = np.array([1,2,3,4,5,6])"
   ]
  },
  {
   "cell_type": "markdown",
   "id": "8411d6ca-4d4a-4a77-8a98-b80c642479be",
   "metadata": {},
   "source": [
    "# Calculating the mean of the dataset"
   ]
  },
  {
   "cell_type": "code",
   "execution_count": 31,
   "id": "2cbdce6e-e704-47e7-a96d-b5a69c3314af",
   "metadata": {},
   "outputs": [
    {
     "data": {
      "text/plain": [
       "71.5"
      ]
     },
     "execution_count": 31,
     "metadata": {},
     "output_type": "execute_result"
    }
   ],
   "source": [
    "mean = np.mean(data_1)\n",
    "mean"
   ]
  },
  {
   "cell_type": "markdown",
   "id": "c4d43f3a-e9b0-4c7c-a8ad-00996cf7330f",
   "metadata": {},
   "source": [
    "# Calculating the Mean Absolute Error of data_1 and data_2 "
   ]
  },
  {
   "cell_type": "code",
   "execution_count": 39,
   "id": "6dc4b4f4-65e9-4006-88f0-f49baee94af8",
   "metadata": {},
   "outputs": [
    {
     "data": {
      "text/plain": [
       "(3.3333333333333335, 23.0)"
      ]
     },
     "execution_count": 39,
     "metadata": {},
     "output_type": "execute_result"
    }
   ],
   "source": [
    "mean_abs_error_1 = np.sum(np.abs(data_1-mean))/len(data_1)\n",
    "mean_abs_error_2 = np.sum(np.abs(data_2-mean))/len(data_2)\n",
    "mean_abs_error_1,mean_abs_error_2\n"
   ]
  },
  {
   "cell_type": "markdown",
   "id": "5aa8dde4-ad68-4f0b-bedb-7fc3f2b321b2",
   "metadata": {},
   "source": [
    "# Calculating the Variance and Standard deviation of the dataset"
   ]
  },
  {
   "cell_type": "code",
   "execution_count": 41,
   "id": "0d9346b6-c6b4-48e5-a0e2-04c4dbc76d8f",
   "metadata": {},
   "outputs": [
    {
     "data": {
      "text/plain": [
       "(3.8622100754188224, 23.18045153428495)"
      ]
     },
     "execution_count": 41,
     "metadata": {},
     "output_type": "execute_result"
    }
   ],
   "source": [
    "np.std(data_1), np.std(data_2)"
   ]
  },
  {
   "cell_type": "code",
   "execution_count": 42,
   "id": "c76eac8f-8ee4-43db-844d-a8942b25f801",
   "metadata": {},
   "outputs": [
    {
     "data": {
      "text/plain": [
       "(14.916666666666666, 537.3333333333334)"
      ]
     },
     "execution_count": 42,
     "metadata": {},
     "output_type": "execute_result"
    }
   ],
   "source": [
    "np.var(data_1), np.var(data_2)"
   ]
  },
  {
   "cell_type": "markdown",
   "id": "8f4de3b5-e939-4ec7-8d37-4ae6f893a99d",
   "metadata": {},
   "source": [
    "# Showing the value into scatter plot graph "
   ]
  },
  {
   "cell_type": "code",
   "execution_count": 30,
   "id": "79e81f76-c13a-4026-91f1-046f9d84676c",
   "metadata": {},
   "outputs": [
    {
     "data": {
      "image/png": "[encoded data removed]",
      "text/plain": [
       "<Figure size 1000x300 with 1 Axes>"
      ]
     },
     "metadata": {},
     "output_type": "display_data"
    }
   ],
   "source": [
    "plt.figure(figsize=(10,3))\n",
    "plt.scatter(data_1,no,label=\"Secton A\")\n",
    "plt.scatter(data_2,no,color=\"red\",label=\"Section B\")\n",
    "plt.plot([70,70,70,70,70,70],no,color=\"blue\",label=\"Mean\")\n",
    "plt.legend()\n",
    "plt.show()"
   ]
  },
  {
   "cell_type": "code",
   "execution_count": null,
   "id": "2ab564d1-2472-45af-b39b-68a2292884b1",
   "metadata": {},
   "outputs": [],
   "source": []
  }
 ],
 "metadata": {
  "kernelspec": {
   "display_name": "Python 3 (ipykernel)",
   "language": "python",
   "name": "python3"
  },
  "language_info": {
   "codemirror_mode": {
    "name": "ipython",
    "version": 3
   },
   "file_extension": ".py",
   "mimetype": "text/x-python",
   "name": "python",
   "nbconvert_exporter": "python",
   "pygments_lexer": "ipython3",
   "version": "3.12.4"
  }
 },
 "nbformat": 4,
 "nbformat_minor": 5
}
